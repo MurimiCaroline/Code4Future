{
 "cells": [
  {
   "cell_type": "markdown",
   "metadata": {},
   "source": [
    "## Recursions"
   ]
  },
  {
   "cell_type": "code",
   "execution_count": 2,
   "metadata": {},
   "outputs": [
    {
     "name": "stdout",
     "output_type": "stream",
     "text": [
      "720\n"
     ]
    }
   ],
   "source": [
    "def factorial(n): \n",
    "    if n == 1: # The termination condition \n",
    "        return 1 # The base case \n",
    "    else: \n",
    "        res = n * factorial(n-1) # The recursive call \n",
    "    return res\n",
    "print (factorial(6))   \n"
   ]
  },
  {
   "cell_type": "code",
   "execution_count": 5,
   "metadata": {},
   "outputs": [
    {
     "name": "stdout",
     "output_type": "stream",
     "text": [
      "Calling factorial( 5 )\n",
      "\t Recursively calling factorial\n",
      "\t\t Recursively calling factorial\n",
      "\t\t\t Returning 1\n",
      "\t\t Returning: 2\n",
      "\t Returning: 6\n",
      "6\n"
     ]
    }
   ],
   "source": [
    "def factorial(n, depth = 1): \n",
    "    if n == 1: \n",
    "        print('\\t' * depth, 'Returning 1') \n",
    "        return 1 \n",
    "    else: \n",
    "        print('\\t'*depth,'Recursively calling factorial') \n",
    "        result = n * factorial(n-1, depth + 1) \n",
    "        print('\\t' * depth, 'Returning:', result) \n",
    "        return result \n",
    "print('Calling factorial( 5 )') \n",
    "print(factorial(3))"
   ]
  },
  {
   "cell_type": "markdown",
   "metadata": {},
   "source": [
    "## November 8th"
   ]
  },
  {
   "cell_type": "code",
   "execution_count": null,
   "metadata": {},
   "outputs": [
    {
     "name": "stdout",
     "output_type": "stream",
     "text": [
      "[1]\n",
      "[1, 1]\n",
      "[1, 2, 1]\n",
      "[1, 3, 3, 1]\n",
      "[1, 4, 6, 4, 1]\n"
     ]
    }
   ],
   "source": [
    "def pascal_triangle(n: int) -> None:\n",
    "    \"\"\"\n",
    "    Prints Pascal's triangle for n rows.\n",
    "    \"\"\"\n",
    "    # Initialize the first row\n",
    "    row = [1]\n",
    "    # Print the first row\n",
    "    print(row)\n",
    "    # Generate the next row\n",
    "    for i in range(1, n):\n",
    "        # Create a new row with the first element set to 1\n",
    "        new_row = [1]\n",
    "        # Fill in the middle elements\n",
    "        for j in range(1, i):\n",
    "            new_row.append(row[j - 1] + row[j])\n",
    "        # Set the last element to 1\n",
    "        new_row.append(1)\n",
    "        # Print the new row\n",
    "        print(new_row)\n",
    "        # Update the current row\n",
    "        row = new_row\n",
    "pascal_triangle(5)"
   ]
  },
  {
   "cell_type": "markdown",
   "metadata": {},
   "source": [
    "##  November 9th"
   ]
  },
  {
   "cell_type": "code",
   "execution_count": null,
   "metadata": {},
   "outputs": [],
   "source": [
    "def multiply_two_numbers():\n",
    "    num1 = float(input(\"Enter the first number: \"))\n",
    "    num2 = float(input(\"Enter the second number: \"))\n",
    "    return num1 * num2\n",
    "print(\"hi\")\n"
   ]
  }
 ],
 "metadata": {
  "kernelspec": {
   "display_name": "Python 3",
   "language": "python",
   "name": "python3"
  },
  "language_info": {
   "codemirror_mode": {
    "name": "ipython",
    "version": 3
   },
   "file_extension": ".py",
   "mimetype": "text/x-python",
   "name": "python",
   "nbconvert_exporter": "python",
   "pygments_lexer": "ipython3",
   "version": "3.12.0"
  }
 },
 "nbformat": 4,
 "nbformat_minor": 2
}
