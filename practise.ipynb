{
 "cells": [
  {
   "cell_type": "markdown",
   "metadata": {},
   "source": [
    "## Recursions"
   ]
  },
  {
   "cell_type": "code",
   "execution_count": 2,
   "metadata": {},
   "outputs": [
    {
     "name": "stdout",
     "output_type": "stream",
     "text": [
      "720\n"
     ]
    }
   ],
   "source": [
    "def factorial(n): \n",
    "    if n == 1: # The termination condition \n",
    "        return 1 # The base case \n",
    "    else: \n",
    "        res = n * factorial(n-1) # The recursive call \n",
    "    return res\n",
    "print (factorial(6))   \n"
   ]
  },
  {
   "cell_type": "code",
   "execution_count": 5,
   "metadata": {},
   "outputs": [
    {
     "name": "stdout",
     "output_type": "stream",
     "text": [
      "Calling factorial( 5 )\n",
      "\t Recursively calling factorial\n",
      "\t\t Recursively calling factorial\n",
      "\t\t\t Returning 1\n",
      "\t\t Returning: 2\n",
      "\t Returning: 6\n",
      "6\n"
     ]
    }
   ],
   "source": [
    "def factorial(n, depth = 1): \n",
    "    if n == 1: \n",
    "        print('\\t' * depth, 'Returning 1') \n",
    "        return 1 \n",
    "    else: \n",
    "        print('\\t'*depth,'Recursively calling factorial') \n",
    "        result = n * factorial(n-1, depth + 1) \n",
    "        print('\\t' * depth, 'Returning:', result) \n",
    "        return result \n",
    "print('Calling factorial( 5 )') \n",
    "print(factorial(3))"
   ]
  }
 ],
 "metadata": {
  "kernelspec": {
   "display_name": "Python 3",
   "language": "python",
   "name": "python3"
  },
  "language_info": {
   "codemirror_mode": {
    "name": "ipython",
    "version": 3
   },
   "file_extension": ".py",
   "mimetype": "text/x-python",
   "name": "python",
   "nbconvert_exporter": "python",
   "pygments_lexer": "ipython3",
   "version": "3.12.0"
  }
 },
 "nbformat": 4,
 "nbformat_minor": 2
}
